{
 "cells": [
  {
   "cell_type": "markdown",
   "id": "c3aee87d",
   "metadata": {},
   "source": [
    "# 1. Introducció\n",
    "En aquest notebook es tractarà el cas de Kaggle: **[Melbourne Housing Market](https://www.kaggle.com/anthonypino/melbourne-housing-market)**\n",
    "\n",
    "El dataset de Kaggle en el què es centra aquest treball conté dades dels habitatges venuts a la ciutat de Melbourne, Austràlia, entre els anys 2016 i 2018. \n",
    "L objectiu del treball amb aquest dataset són dos. Per una banda, aprendre a gestionar i resoldre les mostres incompletes per poder aprofitar la major quantitat de mostres possibles. \n",
    "La segona, crear models regressors que permetin predir  el preus  de venda per als habitatges que es posaran al mercat en el futur a la ciutat de Melbourne.\n"
   ]
  },
  {
   "cell_type": "code",
   "execution_count": 6,
   "id": "4725f8e4",
   "metadata": {},
   "outputs": [],
   "source": [
    "import numpy as np\n",
    "import pandas as pd\n",
    "from matplotlib import pyplot as plt\n",
    "import seaborn as sns\n",
    "from sklearn.linear_model import LinearRegression\n",
    "from sklearn.metrics import r2_score\n",
    "from sklearn import model_selection\n",
    "import random\n",
    "from sklearn.ensemble import RandomForestRegressor\n",
    "from sklearn.tree import DecisionTreeRegressor\n",
    "import statistics\n",
    "from matplotlib.legend_handler import HandlerLine2D\n",
    "from joblib import dump, load\n",
    "from sklearn.model_selection import RandomizedSearchCV\n",
    "from random import randint"
   ]
  },
  {
   "cell_type": "markdown",
   "id": "a16d1aba",
   "metadata": {},
   "source": [
    "# 2.Preprocessat dades\n",
    "Per tal de poder utilitzar les dades del dataset per a entrenar models cal abans assegurar que són adequades per la tasca. En un primer moment cal conèixer el dataset."
   ]
  },
  {
   "cell_type": "code",
   "execution_count": 9,
   "id": "01e22221",
   "metadata": {},
   "outputs": [
    {
     "name": "stdout",
     "output_type": "stream",
     "text": [
      "Dimensionalitat de la BBDD_housing: (34857, 21)\n",
      "       Suburb             Address  Rooms Type      Price Method SellerG  \\\n",
      "0  Abbotsford       68 Studley St      2    h        NaN     SS  Jellis   \n",
      "1  Abbotsford        85 Turner St      2    h  1480000.0      S  Biggin   \n",
      "2  Abbotsford     25 Bloomburg St      2    h  1035000.0      S  Biggin   \n",
      "3  Abbotsford  18/659 Victoria St      3    u        NaN     VB  Rounds   \n",
      "4  Abbotsford        5 Charles St      3    h  1465000.0     SP  Biggin   \n",
      "\n",
      "        Date  Distance  Postcode  ...  Bathroom  Car  Landsize  BuildingArea  \\\n",
      "0  3/09/2016       2.5    3067.0  ...       1.0  1.0     126.0           NaN   \n",
      "1  3/12/2016       2.5    3067.0  ...       1.0  1.0     202.0           NaN   \n",
      "2  4/02/2016       2.5    3067.0  ...       1.0  0.0     156.0          79.0   \n",
      "3  4/02/2016       2.5    3067.0  ...       2.0  1.0       0.0           NaN   \n",
      "4  4/03/2017       2.5    3067.0  ...       2.0  0.0     134.0         150.0   \n",
      "\n",
      "   YearBuilt         CouncilArea Lattitude  Longtitude             Regionname  \\\n",
      "0        NaN  Yarra City Council  -37.8014    144.9958  Northern Metropolitan   \n",
      "1        NaN  Yarra City Council  -37.7996    144.9984  Northern Metropolitan   \n",
      "2     1900.0  Yarra City Council  -37.8079    144.9934  Northern Metropolitan   \n",
      "3        NaN  Yarra City Council  -37.8114    145.0116  Northern Metropolitan   \n",
      "4     1900.0  Yarra City Council  -37.8093    144.9944  Northern Metropolitan   \n",
      "\n",
      "  Propertycount  \n",
      "0        4019.0  \n",
      "1        4019.0  \n",
      "2        4019.0  \n",
      "3        4019.0  \n",
      "4        4019.0  \n",
      "\n",
      "[5 rows x 21 columns]\n",
      "              Rooms         Price      Distance      Postcode      Bedroom2  \\\n",
      "count  34857.000000  2.724700e+04  34856.000000  34856.000000  26640.000000   \n",
      "mean       3.031012  1.050173e+06     11.184929   3116.062859      3.084647   \n",
      "std        0.969933  6.414671e+05      6.788892    109.023903      0.980690   \n",
      "min        1.000000  8.500000e+04      0.000000   3000.000000      0.000000   \n",
      "25%        2.000000  6.350000e+05      6.400000   3051.000000      2.000000   \n",
      "50%        3.000000  8.700000e+05     10.300000   3103.000000      3.000000   \n",
      "75%        4.000000  1.295000e+06     14.000000   3156.000000      4.000000   \n",
      "max       16.000000  1.120000e+07     48.100000   3978.000000     30.000000   \n",
      "\n",
      "           Bathroom           Car       Landsize  BuildingArea     YearBuilt  \\\n",
      "count  26631.000000  26129.000000   23047.000000   13742.00000  15551.000000   \n",
      "mean       1.624798      1.728845     593.598993     160.25640   1965.289885   \n",
      "std        0.724212      1.010771    3398.841946     401.26706     37.328178   \n",
      "min        0.000000      0.000000       0.000000       0.00000   1196.000000   \n",
      "25%        1.000000      1.000000     224.000000     102.00000   1940.000000   \n",
      "50%        2.000000      2.000000     521.000000     136.00000   1970.000000   \n",
      "75%        2.000000      2.000000     670.000000     188.00000   2000.000000   \n",
      "max       12.000000     26.000000  433014.000000   44515.00000   2106.000000   \n",
      "\n",
      "          Lattitude    Longtitude  Propertycount  \n",
      "count  26881.000000  26881.000000   34854.000000  \n",
      "mean     -37.810634    145.001851    7572.888306  \n",
      "std        0.090279      0.120169    4428.090313  \n",
      "min      -38.190430    144.423790      83.000000  \n",
      "25%      -37.862950    144.933500    4385.000000  \n",
      "50%      -37.807600    145.007800    6763.000000  \n",
      "75%      -37.754100    145.071900   10412.000000  \n",
      "max      -37.390200    145.526350   21650.000000  \n"
     ]
    }
   ],
   "source": [
    "def load_dataset(path):\n",
    "    return pd.read_csv(path, header=0, delimiter=\",\")\n",
    "dataset = load_dataset(\"/home/alexandre/Desktop/APC/Cas Kaggle/APC_Kaggle21/data/Melbourne_housing_FULL.csv\")\n",
    "data = dataset.values\n",
    "\n",
    "x_housing= data[:, :-1]\n",
    "y_housing = data[:, -1]\n",
    "print(\"Dimensionalitat de la BBDD_housing:\", dataset.shape)\n",
    "print(dataset.head())"
   ]
  },
  {
   "cell_type": "markdown",
   "id": "044ba6af",
   "metadata": {},
   "source": [
    "### Tipus d'atributs:\n",
    "- 1.Suburb: suburbi\n",
    "- 2.Address: Addreça\n",
    "- 3.Rooms: Num. d'habitacions\n",
    "- 4.Price: Preu en Australian dollars\n",
    "- 5.Method: mètode de venda\n",
    "- 6.Type:tipus immoble\n",
    "- 7.SellerG: Real Estate Agent\n",
    "- 8.Date: data de venda\n",
    "- 9.Distance: distància al centre in Kilometres\n",
    "- 10.Regionname: General Region (\n",
    "- 11.Propertycount: nombre d'immobles al suburbi\n",
    "- 12.Bedroom2 : num. dormitoris\n",
    "- 13.Bathroom: num. banys\n",
    "- 14.Car: num places cotxe\n",
    "- 15.Landsize: superficie terreny en Metres\n",
    "- 16.BuildingArea: superficie edificable Metres\n",
    "- 17.YearBuilt: any construcció\n",
    "- 18.CouncilArea: concell de govern de la zona\n",
    "- 19.Lattitude\n",
    "- 20 Longtitude"
   ]
  },
  {
   "cell_type": "markdown",
   "id": "183e14fe",
   "metadata": {},
   "source": [
    "Analitzem la l'existència de valors null en les dades:"
   ]
  },
  {
   "cell_type": "code",
   "execution_count": 10,
   "id": "4584747b",
   "metadata": {},
   "outputs": [
    {
     "name": "stdout",
     "output_type": "stream",
     "text": [
      "Suburb               0\n",
      "Address              0\n",
      "Rooms                0\n",
      "Type                 0\n",
      "Price             7610\n",
      "Method               0\n",
      "SellerG              0\n",
      "Date                 0\n",
      "Distance             1\n",
      "Postcode             1\n",
      "Bedroom2          8217\n",
      "Bathroom          8226\n",
      "Car               8728\n",
      "Landsize         11810\n",
      "BuildingArea     21115\n",
      "YearBuilt        19306\n",
      "CouncilArea          3\n",
      "Lattitude         7976\n",
      "Longtitude        7976\n",
      "Regionname           3\n",
      "Propertycount        3\n",
      "dtype: int64\n"
     ]
    }
   ],
   "source": [
    "print(dataset.isnull().sum())"
   ]
  },
  {
   "cell_type": "markdown",
   "id": "72fcd40c",
   "metadata": {},
   "source": [
    "Com es pot observar les mostres presenten una gran heterogeneïtat pel què fa a les característiques que tenen registrades (sense valors null). En alguns atributs com BuildingArea o YearBuilt, 66% de les \n",
    "mostres tenen Nan en aquestes caracterísitques. Per la resta d'atributs també hi ha una gran presencia de valors null. Només  un 25% de les mostres contenen tota la informació als atributs. \n",
    "\n",
    "Cal aplicar un tractament profund de les dades per substituir els Nan i o eliminar files."
   ]
  },
  {
   "cell_type": "code",
   "execution_count": null,
   "id": "41f5e243",
   "metadata": {},
   "outputs": [],
   "source": []
  }
 ],
 "metadata": {
  "kernelspec": {
   "display_name": "Python 3 (ipykernel)",
   "language": "python",
   "name": "python3"
  },
  "language_info": {
   "codemirror_mode": {
    "name": "ipython",
    "version": 3
   },
   "file_extension": ".py",
   "mimetype": "text/x-python",
   "name": "python",
   "nbconvert_exporter": "python",
   "pygments_lexer": "ipython3",
   "version": "3.8.10"
  }
 },
 "nbformat": 4,
 "nbformat_minor": 5
}
