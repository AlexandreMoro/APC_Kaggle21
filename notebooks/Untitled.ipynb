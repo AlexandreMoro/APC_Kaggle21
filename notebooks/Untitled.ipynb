{
 "cells": [
  {
   "cell_type": "markdown",
   "id": "9b0b235c",
   "metadata": {},
   "source": [
    "# 1. Introducció\n",
    "En aquest notebook es tractarà el cas de Kaggle: **[Melbourne Housing Market](https://www.kaggle.com/anthonypino/melbourne-housing-market)**\n",
    "\n",
    "El dataset de Kaggle en el què es centra aquest treball conté dades dels habitatges venuts a la ciutat de Melbourne, Austràlia, entre els anys 2016 i 2018. \n",
    "L objectiu del treball amb aquest dataset són dos. Per una banda, aprendre a gestionar i resoldre les mostres incompletes per poder aprofitar la major quantitat de mostres possibles. \n",
    "La segona, crear models regressors que permetin predir  el preus  de venda per als habitatges que es posaran al mercat en el futur a la ciutat de Melbourne.\n"
   ]
  },
  {
   "cell_type": "code",
   "execution_count": null,
   "id": "ab22351e",
   "metadata": {},
   "outputs": [],
   "source": []
  }
 ],
 "metadata": {
  "kernelspec": {
   "display_name": "Python 3 (ipykernel)",
   "language": "python",
   "name": "python3"
  },
  "language_info": {
   "codemirror_mode": {
    "name": "ipython",
    "version": 3
   },
   "file_extension": ".py",
   "mimetype": "text/x-python",
   "name": "python",
   "nbconvert_exporter": "python",
   "pygments_lexer": "ipython3",
   "version": "3.8.10"
  }
 },
 "nbformat": 4,
 "nbformat_minor": 5
}
